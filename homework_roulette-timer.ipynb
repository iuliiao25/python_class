{
 "cells": [
  {
   "cell_type": "code",
   "execution_count": 1,
   "id": "88e41529-71cc-41b2-a09f-5c9c87a638c9",
   "metadata": {},
   "outputs": [],
   "source": [
    "import random\n",
    "import time\n",
    "\n",
    "\n",
    "def go_to_casino(money = 1000):\n",
    "    time_limit = 120\n",
    "    start_time = time.time()\n",
    "\n",
    "    while money > 0:\n",
    "\n",
    "        if time.time() - start_time > time_limit:\n",
    "            print(\"Time is up, game is over. You got fired for being late for work and lost all your money. You are a bankrupt.\")\n",
    "            break\n",
    "\n",
    "        # play the roulette with the given rules\n",
    "        print(f\"You now have ${money}\")\n",
    "        answer = input(\"Do you want to play (y/n) ?\")\n",
    "        if answer not in [\"y\", \"Y\"]:\n",
    "            print(f\"Now you have ${money}. Thanks for the game. See you next time!\")\n",
    "            break\n",
    "\n",
    "        bet = int(input(\"Enter your bet: \")) #to create an integer from a string\n",
    "\n",
    "        if (bet > money or bet <= 0):\n",
    "            print(\"Sorry, this bet can't be accepted\")\n",
    "            continue\n",
    "\n",
    "        # Get player's choice (number or color)\n",
    "        type_of_choice = input(\"Enter type of your choice (number/color): \")\n",
    "\n",
    "        if type_of_choice not in [\"number\", \"color\"]:\n",
    "            print(\"We need only number or color\")\n",
    "            continue\n",
    "            \n",
    "        choice = input(\"Enter your choice. It should be red/black color or number from 1 to 36: \")\n",
    "\n",
    "        winning_number = random.randint(1, 36)\n",
    "        winning_color = ''\n",
    "        \n",
    "        if winning_number % 2 == 0:\n",
    "            winning_color = \"black\"\n",
    "        else:\n",
    "            winning_color = \"red\"\n",
    "    \n",
    "        # Check if player wins\n",
    "        if type_of_choice == \"number\" and int(choice) == winning_number:\n",
    "            money = money + (35 * bet)\n",
    "            print(f\"You won! The winning number was {winning_number}.\")\n",
    "        elif type_of_choice == \"color\" and choice == winning_color:\n",
    "            money = money + (2 * bet)\n",
    "            print(f\"You won! The winning color was {winning_color}.\")\n",
    "        else:\n",
    "            money = money - bet\n",
    "            print(f\"You lost. The winning number was {winning_number}, the winning color was {winning_color}.\")\n",
    "    \n",
    "    if money <= 0:\n",
    "        print(\"No money - no bet!\")"
   ]
  }
 ],
 "metadata": {
  "kernelspec": {
   "display_name": "Python 3 (ipykernel)",
   "language": "python",
   "name": "python3"
  },
  "language_info": {
   "codemirror_mode": {
    "name": "ipython",
    "version": 3
   },
   "file_extension": ".py",
   "mimetype": "text/x-python",
   "name": "python",
   "nbconvert_exporter": "python",
   "pygments_lexer": "ipython3",
   "version": "3.11.1"
  },
  "vscode": {
   "interpreter": {
    "hash": "aee8b7b246df8f9039afb4144a1f6fd8d2ca17a180786b69acc140d282b71a49"
   }
  }
 },
 "nbformat": 4,
 "nbformat_minor": 5
}
